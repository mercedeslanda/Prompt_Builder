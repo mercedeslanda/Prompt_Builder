{
 "cells": [
  {
   "cell_type": "code",
   "execution_count": 2,
   "id": "9bb15e4a",
   "metadata": {},
   "outputs": [
    {
     "data": {
      "text/plain": [
       "'prompt_variables_urbanalítica.csv'"
      ]
     },
     "execution_count": 2,
     "metadata": {},
     "output_type": "execute_result"
    }
   ],
   "source": [
    "import pandas as pd\n",
    "\n",
    "# Define the categories and options\n",
    "data = {\n",
    "    \"tipo_espacio_publico\": [\n",
    "        \"comedor comunitario\", \"mercado flotante\", \"centro de salud móvil\", \"refugio vecinal\", \"aula temporal\",\n",
    "        \"biblioteca al aire libre\", \"auditorio improvisado\", \"espacio ceremonial\", \"cocina pública\", \"lavandería comunitaria\",\n",
    "        \"estación de recarga\", \"centro de acopio\", \"sala de lectura\", \"huerto colectivo\", \"centro de reunión vecinal\"\n",
    "    ],\n",
    "    \"condicion_estructural_funcional\": [\n",
    "        \"emergente\", \"modular\", \"improvisado\", \"abierto\", \"desmontable\", \"portátil\", \"autoconstruido\", \"comunitario\",\n",
    "        \"de emergencia\", \"temporal\", \"en uso\", \"activo\", \"de transición\", \"multifuncional\", \"adaptable\"\n",
    "    ],\n",
    "    \"sistema_de_soporte\": [\n",
    "        \"sobre pilotes de madera\", \"sobre plataformas flotantes\", \"sobre llantas apiladas\", \"sobre tarimas recicladas\",\n",
    "        \"sobre estructura metálica\", \"sobre bloques de concreto\", \"sobre andamios\", \"sobre suelo compactado\",\n",
    "        \"sobre contenedores\", \"sobre bambú\", \"sobre sacos de arena\", \"sobre muros bajos\", \"sobre columnas de acero\",\n",
    "        \"sobre estructuras prefabricadas\", \"sobre redes tensadas\"\n",
    "    ],\n",
    "    \"entorno_geografico\": [\n",
    "        \"zona costera\", \"ribera pantanosa\", \"selva húmeda\", \"planicie agrícola\", \"cerro habitado\", \"barrio densificado\",\n",
    "        \"borde urbano\", \"isla tropical\", \"manglar\", \"bosque seco\", \"cauce seco\", \"duna costera\", \"plaza abandonada\",\n",
    "        \"cantera rural\", \"callejón estrecho\"\n",
    "    ],\n",
    "    \"tipo_de_cubierta\": [\n",
    "        \"lonas tensadas\", \"techos textiles\", \"hojas de palma\", \"plásticos reciclados\", \"toldos coloridos\", \"redes de sombra\",\n",
    "        \"techos inclinados\", \"láminas onduladas\", \"paneles solares\", \"techos ligeros\", \"marquesinas flotantes\",\n",
    "        \"parasoles gigantes\", \"estructuras tensadas\", \"domos inflables\", \"coberturas mixtas\"\n",
    "    ],\n",
    "    \"elementos_constructivos\": [\n",
    "        \"estructuras recicladas\", \"postes metálicos\", \"columnas de bambú\", \"tubos de PVC\", \"vigas improvisadas\",\n",
    "        \"tensores textiles\", \"pilares de concreto\", \"estacas de madera\", \"bastidores modulares\", \"marcos desmontables\",\n",
    "        \"piezas reutilizadas\", \"troncos apilados\", \"bastidores colapsables\", \"módulos plegables\", \"marcos de pérgola\"\n",
    "    ],\n",
    "    \"mobiliario\": [\n",
    "        \"mesas desalineadas\", \"bancos diversos\", \"tapetes extendidos\", \"camillas ordenadas\", \"sillas improvisadas\",\n",
    "        \"hileras de bancas\", \"círculos de taburetes\", \"plataformas de madera\", \"alfombras comunitarias\", \"escritorios compartidos\",\n",
    "        \"colchonetas dobladas\", \"muebles híbridos\", \"bultos usados como asiento\", \"hamacas colgadas\", \"estructuras niveladas\"\n",
    "    ],\n",
    "    \"objetos_funcionales\": [\n",
    "        \"platos de barro\", \"botiquines\", \"libros abiertos\", \"contenedores de agua\", \"cestas tejidas\", \"herramientas agrícolas\",\n",
    "        \"termos de café\", \"radios portátiles\", \"velas encendidas\", \"garrafones\", \"bolsas colgadas\", \"cajas clasificadas\",\n",
    "        \"filtros de agua\", \"lámparas solares\", \"termos metálicos\"\n",
    "    ],\n",
    "    \"elementos_secundarios\": [\n",
    "        \"bicicletas estacionadas\", \"motocicletas al fondo\", \"árboles cercanos\", \"toldos vecinos\", \"perros dormidos\",\n",
    "        \"antenas improvisadas\", \"caminos de tierra\", \"casas de fondo\", \"mantas secándose\", \"señales pintadas\", \"techos vecinos\",\n",
    "        \"plantas locales\", \"muros con grafiti\", \"barcas atadas\", \"ropa colgada\"\n",
    "    ],\n",
    "    \"punto_de_vista\": [\n",
    "        \"vista oblicua desde altura media\", \"vista cenital inclinada\", \"desde el suelo mirando hacia arriba\",\n",
    "        \"frontal desde el nivel del agua\", \"lateral panorámica\", \"perspectiva levemente ascendente\", \"desde un árbol cercano\",\n",
    "        \"aérea desde baja altura\", \"en picado vertical\", \"a nivel de usuario\", \"en escorzo\", \"desde una esquina elevada\",\n",
    "        \"mirando entre objetos\", \"desde un dron\", \"desde sombra adyacente\"\n",
    "    ],\n",
    "    \"estilo_visual\": [\n",
    "        \"fotografía editorial\", \"render arquitectónico\", \"ilustración cómic\", \"dibujo técnico\", \"acuarela suelta\",\n",
    "        \"foto de prensa\", \"collage analógico\", \"croquis digital\", \"cine documental\", \"fotomontaje\", \"estilización vintage\",\n",
    "        \"impresión risográfica\", \"animación cuadro a cuadro\", \"plano técnico iluminado\", \"fotograma cinematográfico\"\n",
    "    ],\n",
    "    \"luz_atmosfera\": [\n",
    "        \"luz cálida filtrada por nubes\", \"niebla matinal\", \"sombras extendidas al atardecer\", \"cielo encapotado\",\n",
    "        \"reflejos sobre agua estancada\", \"contraluz difuso\", \"sol suave de invierno\", \"nublado brillante\", \"atmósfera húmeda\",\n",
    "        \"cielo despejado y dorado\", \"reflejo desde charcos\", \"humo ligero en el aire\", \"bruma costera\",\n",
    "        \"resplandor de media tarde\", \"luminosidad tenue por lluvia\"\n",
    "    ]\n",
    "}\n",
    "\n",
    "# Convert to DataFrame\n",
    "df = pd.DataFrame(data)\n",
    "\n",
    "# Export to CSV\n",
    "csv_path = \"prompt_variables_urbanalítica.csv\"\n",
    "df.to_csv(csv_path, index=False)\n",
    "\n",
    "csv_path\n"
   ]
  }
 ],
 "metadata": {
  "kernelspec": {
   "display_name": "Python 3",
   "language": "python",
   "name": "python3"
  },
  "language_info": {
   "codemirror_mode": {
    "name": "ipython",
    "version": 3
   },
   "file_extension": ".py",
   "mimetype": "text/x-python",
   "name": "python",
   "nbconvert_exporter": "python",
   "pygments_lexer": "ipython3",
   "version": "3.12.3"
  }
 },
 "nbformat": 4,
 "nbformat_minor": 5
}
